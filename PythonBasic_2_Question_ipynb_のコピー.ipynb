{
  "nbformat": 4,
  "nbformat_minor": 0,
  "metadata": {
    "colab": {
      "provenance": [],
      "include_colab_link": true
    },
    "kernelspec": {
      "name": "python3",
      "display_name": "Python 3"
    },
    "language_info": {
      "name": "python"
    }
  },
  "cells": [
    {
      "cell_type": "markdown",
      "metadata": {
        "id": "view-in-github",
        "colab_type": "text"
      },
      "source": [
        "<a href=\"https://colab.research.google.com/github/Sunshine0527/Prmn2023a/blob/main/PythonBasic_2_Question_ipynb_%E3%81%AE%E3%82%B3%E3%83%94%E3%83%BC.ipynb\" target=\"_parent\"><img src=\"https://colab.research.google.com/assets/colab-badge.svg\" alt=\"Open In Colab\"/></a>"
      ]
    },
    {
      "cell_type": "markdown",
      "source": [
        "# 第2章 課題"
      ],
      "metadata": {
        "id": "C44SsXDACtHu"
      }
    },
    {
      "cell_type": "markdown",
      "source": [
        "## 課題1"
      ],
      "metadata": {
        "id": "OnkezWHRCwr9"
      }
    },
    {
      "cell_type": "markdown",
      "source": [
        "for文を使って、以下のように出力してください"
      ],
      "metadata": {
        "id": "q32rK-cECzCl"
      }
    },
    {
      "cell_type": "markdown",
      "source": [
        "![oSFeQoX.png](https://i.imgur.com/oSFeQoX.png)"
      ],
      "metadata": {
        "id": "FxMcxznVB6cI"
      }
    },
    {
      "cell_type": "code",
      "source": [
        "# 入力用\n",
        "for i in range(1,5):\n",
        " print(' '*(4-i)+'*'*(2*i-1))"
      ],
      "metadata": {
        "id": "iBFSsrdRC5Zt",
        "colab": {
          "base_uri": "https://localhost:8080/"
        },
        "outputId": "aabe0d3a-200f-4396-d5f5-e1d63b4afe96"
      },
      "execution_count": 2,
      "outputs": [
        {
          "output_type": "stream",
          "name": "stdout",
          "text": [
            "   *\n",
            "  ***\n",
            " *****\n",
            "*******\n"
          ]
        }
      ]
    },
    {
      "cell_type": "markdown",
      "source": [
        "## 課題2"
      ],
      "metadata": {
        "id": "gIn-UqGTCagu"
      }
    },
    {
      "cell_type": "markdown",
      "source": [
        "課題1の場合を`n=4`として、nを自分で設定して出力できるようにしてください"
      ],
      "metadata": {
        "id": "ltdiEdqYDFy8"
      }
    },
    {
      "cell_type": "markdown",
      "source": [
        "＜例＞ n=5の場合  \n",
        "![o5NjugQ.png](https://imgur.com/o5NjugQ.png)"
      ],
      "metadata": {
        "id": "hw0FM8BRDHz1"
      }
    },
    {
      "cell_type": "code",
      "source": [
        "# 入力用\n",
        "n=int(input('n='))\n",
        "for i in range(1,n+1):\n",
        " print(' '*(n-i)+'*'*(2*i-1))"
      ],
      "metadata": {
        "id": "upd76Tv-FrIB",
        "colab": {
          "base_uri": "https://localhost:8080/"
        },
        "outputId": "ed4fc194-a562-4eb8-e5c9-abeec5d3f8c6"
      },
      "execution_count": null,
      "outputs": [
        {
          "output_type": "stream",
          "name": "stdout",
          "text": [
            "n=5\n",
            "    *\n",
            "   ***\n",
            "  *****\n",
            " *******\n",
            "*********\n"
          ]
        }
      ]
    },
    {
      "cell_type": "markdown",
      "source": [
        "## 課題3"
      ],
      "metadata": {
        "id": "tLMJvwBDE7wT"
      }
    },
    {
      "cell_type": "markdown",
      "source": [
        "for文を使って、以下のように出力してください"
      ],
      "metadata": {
        "id": "vZNvWsG7E99q"
      }
    },
    {
      "cell_type": "markdown",
      "source": [
        "![oSirXec.png](https://imgur.com/oSirXec.png)"
      ],
      "metadata": {
        "id": "ijOV-ilXGDNR"
      }
    },
    {
      "cell_type": "code",
      "source": [
        "# 入力用\n",
        "for i in range(1,5):\n",
        " print(' '*(4-i)+'*'*(2*i-1))\n",
        "for j in range(4,1,-1):\n",
        " print(' '*(5-j)+'*'*(2*j-3)) "
      ],
      "metadata": {
        "id": "Q5Ob9uZpGIE3",
        "colab": {
          "base_uri": "https://localhost:8080/"
        },
        "outputId": "761e520d-3055-4fec-ba54-3100a3638cf2"
      },
      "execution_count": null,
      "outputs": [
        {
          "output_type": "stream",
          "name": "stdout",
          "text": [
            "   *\n",
            "  ***\n",
            " *****\n",
            "*******\n",
            " *****\n",
            "  ***\n",
            "   *\n"
          ]
        }
      ]
    },
    {
      "cell_type": "markdown",
      "source": [
        "## 課題4"
      ],
      "metadata": {
        "id": "Oh7whOPkGQ3I"
      }
    },
    {
      "cell_type": "markdown",
      "source": [
        "課題3の場合を`n=4`として、nを自分で設定して出力できるようにしてください"
      ],
      "metadata": {
        "id": "PnvT8MQbGS03"
      }
    },
    {
      "cell_type": "markdown",
      "source": [
        "＜例＞ n=5の場合  \n",
        "\n",
        "![my4J17V.png](https://i.imgur.com/my4J17V.png)"
      ],
      "metadata": {
        "id": "ZujkAbVMGzhn"
      }
    },
    {
      "cell_type": "code",
      "source": [
        "# 入力用\n",
        "n=int(input('n='))\n",
        "for i in range(1,n+1):\n",
        " print(' '*(n-i)+'*'*(2*i-1))\n",
        "for j in range(n,1,-1):\n",
        " print(' '*(n+1-j)+'*'*(2*j-3))  "
      ],
      "metadata": {
        "id": "hCFNQ7mWG99u",
        "colab": {
          "base_uri": "https://localhost:8080/"
        },
        "outputId": "3ec65cbe-1ca9-45a1-b47c-b00da30a9bbb"
      },
      "execution_count": 12,
      "outputs": [
        {
          "output_type": "stream",
          "name": "stdout",
          "text": [
            "n=10\n",
            "         *\n",
            "        ***\n",
            "       *****\n",
            "      *******\n",
            "     *********\n",
            "    ***********\n",
            "   *************\n",
            "  ***************\n",
            " *****************\n",
            "*******************\n",
            " *****************\n",
            "  ***************\n",
            "   *************\n",
            "    ***********\n",
            "     *********\n",
            "      *******\n",
            "       *****\n",
            "        ***\n",
            "         *\n"
          ]
        }
      ]
    },
    {
      "cell_type": "markdown",
      "source": [
        "## 課題5"
      ],
      "metadata": {
        "id": "R2MvOK4wHJlK"
      }
    },
    {
      "cell_type": "markdown",
      "source": [
        "for文を使って、以下のように出力してください"
      ],
      "metadata": {
        "id": "ddMIUoaKHcwd"
      }
    },
    {
      "cell_type": "markdown",
      "source": [
        "![vDUi5eM.png](https://imgur.com/vDUi5eM.png)"
      ],
      "metadata": {
        "id": "CD1cVUlWHLVO"
      }
    },
    {
      "cell_type": "code",
      "source": [
        "# 入力用\n",
        "# 入力用\n",
        "for i in range(1,4):\n",
        " print(' '*(4-i)+'*'*(2*i-1)+' '*(7-(2*i))+'*'*(2*i-1))\n",
        "print('*'*(13)) \n",
        "for j in range(4,1,-1):\n",
        " print(' '*(5-j)+'*'*(2*j-3)+' '*(2*(-j)+9)+'*'*(2*j-3)) "
      ],
      "metadata": {
        "id": "1pDkfJpUHd93",
        "colab": {
          "base_uri": "https://localhost:8080/"
        },
        "outputId": "82806bb2-da62-4555-dcc2-c8508aaed8c0"
      },
      "execution_count": 4,
      "outputs": [
        {
          "output_type": "stream",
          "name": "stdout",
          "text": [
            "   *     *\n",
            "  ***   ***\n",
            " ***** *****\n",
            "*************\n",
            " ***** *****\n",
            "  ***   ***\n",
            "   *     *\n"
          ]
        }
      ]
    },
    {
      "cell_type": "markdown",
      "source": [
        "## 課題6"
      ],
      "metadata": {
        "id": "oubbafOBHerl"
      }
    },
    {
      "cell_type": "markdown",
      "source": [
        "課題5の場合を`n=4`として、nを自分で設定して出力できるようにしてください"
      ],
      "metadata": {
        "id": "7SzgFdC-HzG9"
      }
    },
    {
      "cell_type": "markdown",
      "source": [
        "＜例＞ n=5の場合  \n",
        "\n",
        "![udkVlYG.png](https://imgur.com/udkVlYG.png)"
      ],
      "metadata": {
        "id": "LY8g9PVPH2OW"
      }
    },
    {
      "cell_type": "code",
      "source": [
        "# 入力用\n",
        "n=int(input('n='))\n",
        "for i in range(1,n):\n",
        " print(' '*(n-i)+'*'*(2*i-1)+' '*(2*n-1-(2*i))+'*'*(2*i-1))\n",
        "print('*'*(4*n-3)) \n",
        "for j in range(n,1,-1):\n",
        " print(' '*(n+1-j)+'*'*(2*j-3)+' '*(2*(-j)+2*n+1)+'*'*(2*j-3)) "
      ],
      "metadata": {
        "id": "XZOK5ulbH-tu",
        "colab": {
          "base_uri": "https://localhost:8080/"
        },
        "outputId": "9590f7f9-f94d-4b3c-80a4-42d4d0dc47f0"
      },
      "execution_count": 21,
      "outputs": [
        {
          "output_type": "stream",
          "name": "stdout",
          "text": [
            "n=3\n",
            "  *   *\n",
            " *** ***\n",
            "*********\n",
            " *** ***\n",
            "  *   *\n"
          ]
        }
      ]
    },
    {
      "cell_type": "markdown",
      "source": [
        "## 課題7"
      ],
      "metadata": {
        "id": "ouqTUmPQIKGF"
      }
    },
    {
      "cell_type": "markdown",
      "source": [
        "for文を使って、以下のように出力してください"
      ],
      "metadata": {
        "id": "WHSxdOHuIMRM"
      }
    },
    {
      "cell_type": "markdown",
      "source": [
        "![IuP0M16.png](https://imgur.com/IuP0M16.png)"
      ],
      "metadata": {
        "id": "-G--WFTkIM8s"
      }
    },
    {
      "cell_type": "code",
      "source": [
        "# 入力用\n",
        "for i in range(1,4):\n",
        " print(' '*(4-i)+'*'*(2*i-1)+' '*(7-(2*i))+'*'*(2*i-1))\n",
        "print('*'*(13)) \n",
        "for j in range(4,1,-1):\n",
        " print(' '*(5-j)+'*'*(2*j-3)+' '*(2*(-j)+9)+'*'*(2*j-3)) \n",
        "for i in range(2,4):\n",
        " print(' '*(4-i)+'*'*(2*i-1)+' '*(7-(2*i))+'*'*(2*i-1))\n",
        "print('*'*(13)) \n",
        "for j in range(4,1,-1):\n",
        " print(' '*(5-j)+'*'*(2*j-3)+' '*(2*(-j)+9)+'*'*(2*j-3))  "
      ],
      "metadata": {
        "id": "BVXjDteuIijL",
        "colab": {
          "base_uri": "https://localhost:8080/"
        },
        "outputId": "d04a1318-c53c-4b37-83db-c78c3d66ca3c"
      },
      "execution_count": 17,
      "outputs": [
        {
          "output_type": "stream",
          "name": "stdout",
          "text": [
            "   *     *\n",
            "  ***   ***\n",
            " ***** *****\n",
            "*************\n",
            " ***** *****\n",
            "  ***   ***\n",
            "   *     *\n",
            "  ***   ***\n",
            " ***** *****\n",
            "*************\n",
            " ***** *****\n",
            "  ***   ***\n",
            "   *     *\n"
          ]
        }
      ]
    },
    {
      "cell_type": "markdown",
      "source": [
        "## 課題8"
      ],
      "metadata": {
        "id": "31u0ExX2IjWj"
      }
    },
    {
      "cell_type": "markdown",
      "source": [
        "課題7の場合を`n=4`として、nを自分で設定して出力できるようにしてください"
      ],
      "metadata": {
        "id": "zeOvmKarInpz"
      }
    },
    {
      "cell_type": "markdown",
      "source": [
        "＜例＞ n=5の場合  \n",
        "\n",
        "![AlTnu1k.png](https://imgur.com/AlTnu1k.png)"
      ],
      "metadata": {
        "id": "2uLR5sbKIov2"
      }
    },
    {
      "cell_type": "code",
      "source": [
        "# 入力用\n",
        "n=int(input('n='))\n",
        "for i in range(1,n):\n",
        " print(' '*(n-i)+'*'*(2*i-1)+' '*(2*n-1-(2*i))+'*'*(2*i-1))\n",
        "print('*'*(4*n-3)) \n",
        "for j in range(n,1,-1):\n",
        " print(' '*(n+1-j)+'*'*(2*j-3)+' '*(2*(-j)+2*n+1)+'*'*(2*j-3)) \n",
        "for i in range(2,n):\n",
        " print(' '*(n-i)+'*'*(2*i-1)+' '*(2*n-1-(2*i))+'*'*(2*i-1))\n",
        "print('*'*(4*n-3)) \n",
        "for j in range(n,1,-1):\n",
        " print(' '*(n+1-j)+'*'*(2*j-3)+' '*(2*(-j)+2*n+1)+'*'*(2*j-3))  "
      ],
      "metadata": {
        "id": "TXJaIVbYI_Cd",
        "colab": {
          "base_uri": "https://localhost:8080/"
        },
        "outputId": "9fe8a92d-3fa4-48ff-cfa1-ecce7d53e64d"
      },
      "execution_count": 18,
      "outputs": [
        {
          "output_type": "stream",
          "name": "stdout",
          "text": [
            "n=5\n",
            "    *       *\n",
            "   ***     ***\n",
            "  *****   *****\n",
            " ******* *******\n",
            "*****************\n",
            " ******* *******\n",
            "  *****   *****\n",
            "   ***     ***\n",
            "    *       *\n",
            "   ***     ***\n",
            "  *****   *****\n",
            " ******* *******\n",
            "*****************\n",
            " ******* *******\n",
            "  *****   *****\n",
            "   ***     ***\n",
            "    *       *\n"
          ]
        }
      ]
    }
  ]
}