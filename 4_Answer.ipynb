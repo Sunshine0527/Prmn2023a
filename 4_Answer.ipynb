{
  "nbformat": 4,
  "nbformat_minor": 0,
  "metadata": {
    "colab": {
      "provenance": [],
      "include_colab_link": true
    },
    "kernelspec": {
      "name": "python3",
      "display_name": "Python 3"
    },
    "language_info": {
      "name": "python"
    }
  },
  "cells": [
    {
      "cell_type": "markdown",
      "metadata": {
        "id": "view-in-github",
        "colab_type": "text"
      },
      "source": [
        "<a href=\"https://colab.research.google.com/github/Sunshine0527/Prmn2023a/blob/main/4_Answer.ipynb\" target=\"_parent\"><img src=\"https://colab.research.google.com/assets/colab-badge.svg\" alt=\"Open In Colab\"/></a>"
      ]
    },
    {
      "cell_type": "markdown",
      "source": [
        "<a href=\"https://colab.research.google.com/github/kiryu-3/Prmn2023/blob/main/Python/Python_Basic/question/PythonBasic_4_Question.ipynb\" target=\"_parent\"><img src=\"https://colab.research.google.com/assets/colab-badge.svg\" alt=\"Open In Colab\"/></a>"
      ],
      "metadata": {
        "id": "TA5kKi-LY1xg"
      }
    },
    {
      "cell_type": "markdown",
      "source": [
        "# 第4章 課題"
      ],
      "metadata": {
        "id": "r-kcfL2yEU8b"
      }
    },
    {
      "cell_type": "markdown",
      "source": [
        "## 課題1"
      ],
      "metadata": {
        "id": "UqgRlaNaaWsU"
      }
    },
    {
      "cell_type": "markdown",
      "source": [
        "10から2800まで、10飛ばしの数を乱数で生成し、2220000に足してください。  \n",
        "\n",
        "この数を5つ生成し、一つのリストに格納した後、最終的に頭に\"b\"をつけて5つ出力してください。"
      ],
      "metadata": {
        "id": "dMngS2Dtai7U"
      }
    },
    {
      "cell_type": "markdown",
      "source": [
        "＜実行結果例＞\n",
        "``` py  \n",
        "['b2220400', 'b2221750', 'b2222480', 'b2221720', 'b2220380']\n",
        "```"
      ],
      "metadata": {
        "id": "Ys4Y3shObw3w"
      }
    },
    {
      "cell_type": "code",
      "source": [
        "# 入力用\n",
        "import random\n",
        "list=[]\n",
        "for i in range(5):\n",
        " i=random.randrange(10,2800,10)\n",
        " i=i+2220000\n",
        " i='b'+str(i)\n",
        " list.append(i)\n",
        "\n",
        "print(list)\n"
      ],
      "metadata": {
        "id": "UaBFEY3Hdbsg",
        "colab": {
          "base_uri": "https://localhost:8080/"
        },
        "outputId": "83330eca-7667-4788-acac-22cdc4700c60"
      },
      "execution_count": null,
      "outputs": [
        {
          "output_type": "stream",
          "name": "stdout",
          "text": [
            "['b2222280', 'b2220830', 'b2220210', 'b2220320', 'b2220020']\n"
          ]
        }
      ]
    },
    {
      "cell_type": "markdown",
      "source": [
        "## 課題2"
      ],
      "metadata": {
        "id": "yRsfay5_8FuJ"
      }
    },
    {
      "cell_type": "markdown",
      "source": [
        "1桁の自然数を乱数を使って5つ格納した2つのリストを作ってください。  \n",
        "この時、一つのリスト内で5つの値が重複しないようにしてください\n",
        "\n",
        "その後、対応する要素を足し合わせた新しいリストを出力してください"
      ],
      "metadata": {
        "id": "4WbYBFGr8Ht3"
      }
    },
    {
      "cell_type": "markdown",
      "source": [
        "＜実行結果例＞\n",
        "``` py  \n",
        "1つ目のリスト：[1, 2, 3, 4, 5]  \n",
        "2つ目のリスト：[1, 3, 5, 7, 9]  \n",
        "足し合わせたリスト：[2, 5, 8, 11, 14]\n",
        "```"
      ],
      "metadata": {
        "id": "A0ImPPha84Nb"
      }
    },
    {
      "cell_type": "code",
      "source": [
        "# 入力用\n",
        "import random\n",
        "list1=[]\n",
        "list2=[]\n",
        "listsum=[]\n",
        "while len(list1) < 5: \n",
        " i=random.randint(1,10)\n",
        " if not i in list1:\n",
        "  list1.append(i)\n",
        "while len(list2) < 5: \n",
        " j=random.randint(1,10)\n",
        " if not j in list2:\n",
        "  list2.append(j)\n",
        "for k in range(5):\n",
        " k=list1[k]+list2[k]\n",
        " listsum.append(k)  \n",
        "\n",
        "print('1つ目のリスト:{}'.format(list1)) \n",
        "print('2つ目のリスト:{}'.format(list2)) \n",
        "print('足し合わせたリスト:{}'.format(listsum))"
      ],
      "metadata": {
        "id": "TaJm8jn2MHmk",
        "colab": {
          "base_uri": "https://localhost:8080/"
        },
        "outputId": "f83d085e-74c6-40d7-ae82-0f32faa33c16"
      },
      "execution_count": null,
      "outputs": [
        {
          "output_type": "stream",
          "name": "stdout",
          "text": [
            "1つ目のリスト:[1, 7, 4, 8, 9]\n",
            "2つ目のリスト:[7, 9, 3, 1, 8]\n",
            "足し合わせたリスト:[8, 16, 7, 9, 17]\n"
          ]
        }
      ]
    },
    {
      "cell_type": "markdown",
      "source": [
        "## 課題3"
      ],
      "metadata": {
        "id": "-qZw_n3X8xrW"
      }
    },
    {
      "cell_type": "markdown",
      "source": [
        "リストの中身を指定した数で分割してみます。\n",
        "\n",
        "以下のリストには都道府県47つが格納されています。"
      ],
      "metadata": {
        "id": "vxwATeobQf_U"
      }
    },
    {
      "cell_type": "code",
      "source": [
        "\n",
        " todohuken_list = [\n",
        "    '北海道', '青森県', '岩手県', '宮城県', '秋田県', '山形県', '福島県', '茨城県', '栃木県', '群馬県', \n",
        "    '埼玉県', '千葉県', '東京都', '神奈川県', '新潟県', '富山県', '石川県', '福井県', '山梨県', '長野県', \n",
        "    '岐阜県', '静岡県', '愛知県', '三重県', '滋賀県', '京都府', '大阪府', '兵庫県', '奈良県', '和歌山県', \n",
        "    '鳥取県', '島根県', '岡山県', '広島県', '山口県', '徳島県', '香川県', '愛媛県', '高知県',  '福岡県', \n",
        "    '佐賀県', '長崎県', '熊本県', '大分県', '宮崎県', '鹿児島県', '沖縄県',\n",
        " ]"
      ],
      "metadata": {
        "id": "8ZdyRWbERGAY"
      },
      "execution_count": null,
      "outputs": []
    },
    {
      "cell_type": "markdown",
      "source": [
        "  \n",
        "これをランダムに1つのリストのサイズを4として分割してください"
      ],
      "metadata": {
        "id": "tGPa1uU6Qs2c"
      }
    },
    {
      "cell_type": "markdown",
      "source": [
        "＜実行結果例＞  \n",
        "``` py \n",
        "[['宮崎県', '茨城県', '栃木県', '千葉県'], … , ['岩手県', '滋賀県', '宮城県']]\n",
        "```"
      ],
      "metadata": {
        "id": "PWLTwz0TXzm_"
      }
    },
    {
      "cell_type": "code",
      "source": [
        "# 入力用\n",
        "\n",
        "import random\n",
        "todohuken_list = [\n",
        "    '北海道', '青森県', '岩手県', '宮城県', '秋田県', '山形県', '福島県', '茨城県', '栃木県', '群馬県', \n",
        "    '埼玉県', '千葉県', '東京都', '神奈川県', '新潟県', '富山県', '石川県', '福井県', '山梨県', '長野県', \n",
        "    '岐阜県', '静岡県', '愛知県', '三重県', '滋賀県', '京都府', '大阪府', '兵庫県', '奈良県', '和歌山県', \n",
        "    '鳥取県', '島根県', '岡山県', '広島県', '山口県', '徳島県', '香川県', '愛媛県', '高知県',  '福岡県', \n",
        "    '佐賀県', '長崎県', '熊本県', '大分県', '宮崎県', '鹿児島県', '沖縄県',\n",
        "]\n",
        "\n",
        "random.shuffle(todohuken_list)\n",
        "print(todohuken_list)\n",
        "list4=[]\n",
        "for i in range(0,47,4):\n",
        " list4.append(todohuken_list[i:i+4])\n",
        " \n",
        " \n",
        "print(list4)"
      ],
      "metadata": {
        "id": "rgPlOseCTC_h",
        "colab": {
          "base_uri": "https://localhost:8080/"
        },
        "outputId": "ea79326f-7b5b-48ba-e0e5-6e07396d8e1d"
      },
      "execution_count": null,
      "outputs": [
        {
          "output_type": "stream",
          "name": "stdout",
          "text": [
            "['沖縄県', '福井県', '新潟県', '鳥取県', '広島県', '岡山県', '福岡県', '京都府', '長野県', '鹿児島県', '香川県', '東京都', '石川県', '奈良県', '宮崎県', '三重県', '群馬県', '徳島県', '埼玉県', '大分県', '福島県', '滋賀県', '佐賀県', '富山県', '山形県', '愛知県', '兵庫県', '愛媛県', '高知県', '長崎県', '山口県', '岩手県', '岐阜県', '千葉県', '北海道', '山梨県', '大阪府', '神奈川県', '和歌山県', '宮城県', '青森県', '熊本県', '茨城県', '島根県', '栃木県', '秋田県', '静岡県']\n",
            "[['沖縄県', '福井県', '新潟県', '鳥取県'], ['広島県', '岡山県', '福岡県', '京都府'], ['長野県', '鹿児島県', '香川県', '東京都'], ['石川県', '奈良県', '宮崎県', '三重県'], ['群馬県', '徳島県', '埼玉県', '大分県'], ['福島県', '滋賀県', '佐賀県', '富山県'], ['山形県', '愛知県', '兵庫県', '愛媛県'], ['高知県', '長崎県', '山口県', '岩手県'], ['岐阜県', '千葉県', '北海道', '山梨県'], ['大阪府', '神奈川県', '和歌山県', '宮城県'], ['青森県', '熊本県', '茨城県', '島根県'], ['栃木県', '秋田県', '静岡県']]\n"
          ]
        }
      ]
    },
    {
      "cell_type": "markdown",
      "source": [
        "## 課題4"
      ],
      "metadata": {
        "id": "W573lh39MOlj"
      }
    },
    {
      "cell_type": "markdown",
      "source": [
        "ある大学の名前と年齢が、次のような形式で格納されたリスト `university_list` があります。"
      ],
      "metadata": {
        "id": "sSIMKY-aNcIx"
      }
    },
    {
      "cell_type": "code",
      "source": [
        "university_list = [\n",
        "    \"Chitose,25\",\n",
        "    \"Hokudai,105\",\n",
        "    \"Muroran,74\",\n",
        "    \"Hakodate,23\",\n",
        "]\n"
      ],
      "metadata": {
        "id": "v-wGyWuKK3wl",
        "colab": {
          "base_uri": "https://localhost:8080/"
        },
        "outputId": "fd779111-494f-4496-ca37-ea34f85ad807"
      },
      "execution_count": null,
      "outputs": [
        {
          "output_type": "stream",
          "name": "stdout",
          "text": [
            "['Chitose,25', 'Hakodate,23', 'Hokudai,105', 'Muroran,74']\n"
          ]
        }
      ]
    },
    {
      "cell_type": "markdown",
      "source": [
        "このリストを、年齢順にソートして、新たなリストとして出力してください"
      ],
      "metadata": {
        "id": "XIxDf9QgO1iH"
      }
    },
    {
      "cell_type": "markdown",
      "source": [
        "＜実行結果＞  \n",
        "``` py\n",
        "['Chitose,25', 'Hokudai,105', 'Muroran,74', 'Hakodate,23']\n",
        "['Hakodate,23', 'Chitose,25', 'Muroran,74', 'Hokudai,105']\n",
        "```"
      ],
      "metadata": {
        "id": "0Z2-_1dAQENU"
      }
    },
    {
      "cell_type": "code",
      "source": [
        "# 入力用\n",
        "import re\n",
        "university_list = [\n",
        "    \"Chitose,25\",\n",
        "    \"Hokudai,105\",\n",
        "    \"Muroran,74\",\n",
        "    \"Hakodate,23\",\n",
        "]\n",
        "\n",
        "n_list=sorted(university_list,key=lambda x: int(re.search(r\"\\d+\",x).group()))\n",
        "print(n_list)"
      ],
      "metadata": {
        "colab": {
          "base_uri": "https://localhost:8080/"
        },
        "id": "i9mdCsh3W9JI",
        "outputId": "6e5e5b07-5d18-4dee-e8ca-bbd7fbbddc43"
      },
      "execution_count": null,
      "outputs": [
        {
          "output_type": "stream",
          "name": "stdout",
          "text": [
            "['Hakodate,23', 'Chitose,25', 'Muroran,74', 'Hokudai,105']\n"
          ]
        }
      ]
    },
    {
      "cell_type": "markdown",
      "source": [
        "## 課題5"
      ],
      "metadata": {
        "id": "QijnXk7UWAVC"
      }
    },
    {
      "cell_type": "markdown",
      "source": [
        "**FizzBuzz（フィズ・バズ）問題**という問題について解いていきます。\n",
        "\n",
        "もともとは、英語圏で長距離ドライブ中や飲み会の時に行われる言葉遊びです。"
      ],
      "metadata": {
        "id": "m7F47Q1mWCA6"
      }
    },
    {
      "cell_type": "markdown",
      "source": [
        "以下のような問題になります。\n",
        "\n",
        "1～Nまでの整数を順に出力しなさい。ただし、例外として以下のルールを守ること。\n",
        "\n",
        "* 3で割り切れる数字の場合は\"Fizz\"を出力\n",
        "* 5で割り切れる数字の場合は\"Buzz\"を出力\n",
        "* どちらでも割り切れる数字の場合は\"FizzBuzz\"を出力"
      ],
      "metadata": {
        "id": "fArw0VcNWgwZ"
      }
    },
    {
      "cell_type": "markdown",
      "source": [
        "ここではN=100として、まずは一つのリストに\n",
        "\"Fizz\" か \"Buzz\" か \"FizzBuzz\" か \"others\" を格納してください。\n",
        "\n",
        "その後、それぞれの要素の数をカウントしてください。"
      ],
      "metadata": {
        "id": "SYqkpYstWm7Z"
      }
    },
    {
      "cell_type": "markdown",
      "source": [
        "＜実行結果＞  \n",
        "``` py\n",
        "FizzBuzzの数：6 \n",
        "Fizzの数：27 \n",
        "Buzzの数：14\n",
        "othersの数：53  \n",
        "```"
      ],
      "metadata": {
        "id": "OqLuJTcWYzFt"
      }
    },
    {
      "cell_type": "code",
      "source": [
        "# 入力用\n",
        "FB_list=[]\n",
        "for i in range(1,101):\n",
        "  if i%3==0 and i%5==0:\n",
        "    FB_list.append('FizzBazz')\n",
        "  elif i%3==0:\n",
        "    FB_list.append('Fizz')\n",
        "  elif i%5==0:\n",
        "    FB_list.append('Bazz')  \n",
        "  else:\n",
        "    FB_list.append('others')\n",
        "\n",
        "print(FB_list)\n",
        "print('FizzBuzzの数:{}'.format(FB_list.count('FizzBazz')))    \n",
        "print('Fizzの数:{}'.format(FB_list.count('Fizz'))) \n",
        "print('Buzzの数:{}'.format(FB_list.count('Bazz'))) \n",
        "print('othersの数:{}'.format(FB_list.count('others'))) "
      ],
      "metadata": {
        "id": "5kEDaVLmaEpb",
        "colab": {
          "base_uri": "https://localhost:8080/"
        },
        "outputId": "d1e92116-1787-47f2-ca44-cef7a6c334b8"
      },
      "execution_count": 7,
      "outputs": [
        {
          "output_type": "stream",
          "name": "stdout",
          "text": [
            "['others', 'others', 'Fizz', 'others', 'Bazz', 'Fizz', 'others', 'others', 'Fizz', 'Bazz', 'others', 'Fizz', 'others', 'others', 'FizzBazz', 'others', 'others', 'Fizz', 'others', 'Bazz', 'Fizz', 'others', 'others', 'Fizz', 'Bazz', 'others', 'Fizz', 'others', 'others', 'FizzBazz', 'others', 'others', 'Fizz', 'others', 'Bazz', 'Fizz', 'others', 'others', 'Fizz', 'Bazz', 'others', 'Fizz', 'others', 'others', 'FizzBazz', 'others', 'others', 'Fizz', 'others', 'Bazz', 'Fizz', 'others', 'others', 'Fizz', 'Bazz', 'others', 'Fizz', 'others', 'others', 'FizzBazz', 'others', 'others', 'Fizz', 'others', 'Bazz', 'Fizz', 'others', 'others', 'Fizz', 'Bazz', 'others', 'Fizz', 'others', 'others', 'FizzBazz', 'others', 'others', 'Fizz', 'others', 'Bazz', 'Fizz', 'others', 'others', 'Fizz', 'Bazz', 'others', 'Fizz', 'others', 'others', 'FizzBazz', 'others', 'others', 'Fizz', 'others', 'Bazz', 'Fizz', 'others', 'others', 'Fizz', 'Bazz']\n",
            "FizzBuzzの数:6\n",
            "Fizzの数:27\n",
            "Buzzの数:14\n",
            "othersの数:53\n"
          ]
        }
      ]
    },
    {
      "cell_type": "code",
      "source": [],
      "metadata": {
        "id": "T_jbnMvwe1sN"
      },
      "execution_count": null,
      "outputs": []
    }
  ]
}